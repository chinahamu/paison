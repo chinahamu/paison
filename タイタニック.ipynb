{
  "nbformat": 4,
  "nbformat_minor": 0,
  "metadata": {
    "colab": {
      "name": "タイタニック",
      "version": "0.3.2",
      "provenance": [],
      "collapsed_sections": [],
      "include_colab_link": true
    },
    "kernelspec": {
      "name": "python3",
      "display_name": "Python 3"
    }
  },
  "cells": [
    {
      "cell_type": "markdown",
      "metadata": {
        "id": "view-in-github",
        "colab_type": "text"
      },
      "source": [
        "<a href=\"https://colab.research.google.com/github/chinahamu/paison/blob/master/%E3%82%BF%E3%82%A4%E3%82%BF%E3%83%8B%E3%83%83%E3%82%AF.ipynb\" target=\"_parent\"><img src=\"https://colab.research.google.com/assets/colab-badge.svg\" alt=\"Open In Colab\"/></a>"
      ]
    },
    {
      "cell_type": "code",
      "metadata": {
        "id": "m0H1Co6yQ4X_",
        "colab_type": "code",
        "colab": {}
      },
      "source": [
        "from google.colab import drive\n",
        "import numpy as np\n",
        "import pandas as pd\n",
        "import matplotlib.pyplot as plt\n",
        "import seaborn as sns\n",
        "from sklearn.model_selection import train_test_split\n",
        "\n",
        "df = drive.mount('/content/drive')\n"
      ],
      "execution_count": 0,
      "outputs": []
    },
    {
      "cell_type": "code",
      "metadata": {
        "id": "tfSca9JaR86o",
        "colab_type": "code",
        "outputId": "eb68ca54-d293-4d80-b42b-574f90096280",
        "colab": {
          "base_uri": "https://localhost:8080/",
          "height": 322
        }
      },
      "source": [
        "df = pd.read_csv(\"drive/My Drive/Colab_Notebooks/titanic/train.csv\").replace('male',0).replace('female',1)\n",
        "df['Age'].fillna(df['Age'].median(),inplace=True)\n",
        "\n",
        "split_data = []\n",
        "\n",
        "for survived in [0,1]:\n",
        "  split_data.append(df[df.Survived==survived])\n",
        "  \n",
        "temp = [i['Pclass'].dropna() for i in split_data]\n",
        "plt.hist(temp,histtype='barstacked',bins=3)\n"
      ],
      "execution_count": 18,
      "outputs": [
        {
          "output_type": "execute_result",
          "data": {
            "text/plain": [
              "([array([ 80.,  97., 372.]), array([216., 184., 491.])],\n",
              " array([1.        , 1.66666667, 2.33333333, 3.        ]),\n",
              " <a list of 2 Lists of Patches objects>)"
            ]
          },
          "metadata": {
            "tags": []
          },
          "execution_count": 18
        },
        {
          "output_type": "display_data",
          "data": {
            "image/png": "[encoded data removed]",
            "text/plain": [
              "<Figure size 432x288 with 1 Axes>"
            ]
          },
          "metadata": {
            "tags": []
          }
        }
      ]
    },
    {
      "cell_type": "code",
      "metadata": {
        "id": "arwDY7a-H2FX",
        "colab_type": "code",
        "colab": {
          "base_uri": "https://localhost:8080/",
          "height": 410
        },
        "outputId": "2632b803-74cb-47d8-87b1-c25f7ccf7d56"
      },
      "source": [
        "temp = [i['Age'].dropna() for i in split_data]\n",
        "plt.hist(temp,histtype='barstacked',bins=16)"
      ],
      "execution_count": 19,
      "outputs": [
        {
          "output_type": "execute_result",
          "data": {
            "text/plain": [
              "([array([ 13.,  13.,   8.,  63.,  80., 191.,  47.,  39.,  30.,  23.,  14.,\n",
              "          11.,  10.,   3.,   4.,   0.]),\n",
              "  array([ 44.,  20.,  19.,  96., 122., 285.,  88.,  67.,  47.,  39.,  24.,\n",
              "          18.,  14.,   3.,   4.,   1.])],\n",
              " array([ 0.42   ,  5.39375, 10.3675 , 15.34125, 20.315  , 25.28875,\n",
              "        30.2625 , 35.23625, 40.21   , 45.18375, 50.1575 , 55.13125,\n",
              "        60.105  , 65.07875, 70.0525 , 75.02625, 80.     ]),\n",
              " <a list of 2 Lists of Patches objects>)"
            ]
          },
          "metadata": {
            "tags": []
          },
          "execution_count": 19
        },
        {
          "output_type": "display_data",
          "data": {
            "image/png": "[encoded data removed]",
            "text/plain": [
              "<Figure size 432x288 with 1 Axes>"
            ]
          },
          "metadata": {
            "tags": []
          }
        }
      ]
    },
    {
      "cell_type": "code",
      "metadata": {
        "id": "0npdvzQ5TZ5d",
        "colab_type": "code",
        "colab": {}
      },
      "source": [
        "df['FamilySize'] = df['SibSp'] + df['Parch'] + 1\n",
        "df2 = df.drop([\"Name\",\"SibSp\",\"Parch\",\"Ticket\",\"Fare\",\"Cabin\",\"Embarked\"],axis=1)\n",
        "\n",
        "from sklearn.ensemble import RandomForestClassifier\n",
        "from sklearn.datasets import make_classification\n",
        "\n",
        "train_data = df2.values\n",
        "xs = train_data[:,2:]\n",
        "y = train_data[:,1]\n",
        "\n",
        "forest = RandomForestClassifier(n_estimators = 100)\n",
        "foresst = forest.fit(xs,y)\n",
        "\n",
        "test_df = pd.read_csv(\"drive/My Drive/Colab_Notebooks/titanic/test.csv\").replace('male',0).replace('female',1)\n",
        "test_df['Age'].fillna(test_df['Age'].median(),inplace=True)\n",
        "test_df['FamilySize'] = test_df['SibSp'] + test_df['Parch'] + 1\n",
        "\n",
        "test_df2 = test_df.drop([\"Name\",\"SibSp\",\"Parch\",\"Ticket\",\"Fare\",\"Cabin\",\"Embarked\"],axis=1)\n",
        "\n"
      ],
      "execution_count": 0,
      "outputs": []
    },
    {
      "cell_type": "code",
      "metadata": {
        "id": "eV_wjqR8M0XE",
        "colab_type": "code",
        "colab": {}
      },
      "source": [
        "test_data = test_df2.values\n",
        "xs_test = test_data[:,1:]\n",
        "output = forest.predict(xs_test)\n",
        "\n",
        "print(len(test_data[:,0]),len(output))\n",
        "\n",
        "zip_data = zip(test_data[:,0].astype(int),output.astype(int))\n",
        "predict_data = list(zip_data)\n",
        "\n",
        "predict_data"
      ],
      "execution_count": 0,
      "outputs": []
    },
    {
      "cell_type": "code",
      "metadata": {
        "id": "ERGfcihTNt71",
        "colab_type": "code",
        "colab": {}
      },
      "source": [
        "import csv\n",
        "\n",
        "with open(\"drive/My Drive/Colab_Notebooks/titanic/predict_result_data.csv\",\"w\") as f:\n",
        "  writer = csv.writer(f,lineterminator=\"\\n\")\n",
        "  writer.writerow([\"PassengerId\",\"Survived\"])\n",
        "  for pid, survied in zip(test_data[:,0].astype(int),output.astype(int)):\n",
        "    writer.writerow([pid,survived])"
      ],
      "execution_count": 0,
      "outputs": []
    }
  ]
}